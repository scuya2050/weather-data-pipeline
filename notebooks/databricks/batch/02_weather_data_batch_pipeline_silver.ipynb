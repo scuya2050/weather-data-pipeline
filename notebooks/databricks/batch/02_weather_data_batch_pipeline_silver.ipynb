{
 "cells": [
  {
   "cell_type": "markdown",
   "metadata": {
    "application/vnd.databricks.v1+cell": {
     "cellMetadata": {
      "byteLimit": 2048000,
      "rowLimit": 10000
     },
     "inputWidgets": {},
     "nuid": "7f51663f-e695-4bd4-a18f-524d2499d20c",
     "showTitle": false,
     "tableResultSettingsMap": {},
     "title": ""
    }
   },
   "source": [
    "### Silver Layer"
   ]
  },
  {
   "cell_type": "markdown",
   "metadata": {
    "application/vnd.databricks.v1+cell": {
     "cellMetadata": {
      "byteLimit": 2048000,
      "rowLimit": 10000
     },
     "inputWidgets": {},
     "nuid": "d63cd5a5-4b7b-4b6e-b9a0-8a40f352b2ba",
     "showTitle": false,
     "tableResultSettingsMap": {},
     "title": ""
    }
   },
   "source": [
    "#### Table Creation"
   ]
  },
  {
   "cell_type": "code",
   "execution_count": 0,
   "metadata": {
    "application/vnd.databricks.v1+cell": {
     "cellMetadata": {
      "byteLimit": 2048000,
      "rowLimit": 10000
     },
     "inputWidgets": {},
     "nuid": "b414d269-2ce7-4a78-a311-7f3ebce578e8",
     "showTitle": false,
     "tableResultSettingsMap": {},
     "title": ""
    }
   },
   "outputs": [],
   "source": [
    "CREATE CATALOG IF NOT EXISTS weather;\n",
    "USE CATALOG weather;\n",
    "CREATE SCHEMA IF NOT EXISTS 02_silver;\n",
    "USE SCHEMA 02_silver;\n",
    "CREATE TABLE IF NOT EXISTS weather_api_measurements (\n",
    "  -- country                     STRING,\n",
    "  -- region                      STRING,\n",
    "  -- district                    STRING,\n",
    "  row_id                      STRING,\n",
    "  location_code               STRING,\n",
    "  lat                         DECIMAL(10,6),\n",
    "  lon                         DECIMAL(10,6),\n",
    "  tz_id                       STRING,\n",
    "  api_call_timestamp          TIMESTAMP,\n",
    "  last_updated_timestamp      TIMESTAMP,\n",
    "  last_updated_year           INT GENERATED ALWAYS AS (YEAR(last_updated_timestamp)),\n",
    "  last_updated_month          INT GENERATED ALWAYS AS (MONTH(last_updated_timestamp)),\n",
    "  last_updated_day            INT GENERATED ALWAYS AS (DAY(last_updated_timestamp)),\n",
    "  temp_c                      DECIMAL(10,2),\n",
    "  is_day                      BOOLEAN,\n",
    "  weather_condition           STRING,\n",
    "  wind_mph                    DECIMAL(10,2),\n",
    "  wind_degree                 DECIMAL(10,2),\n",
    "  pressure_mb                 DECIMAL(10,2),\n",
    "  humidity                    DECIMAL(10,2),\n",
    "  cloud                       DECIMAL(10,2),\n",
    "  feelslike_c                 DECIMAL(10,2),\n",
    "  windchill_c                 DECIMAL(10,2),\n",
    "  heatindex_c                 DECIMAL(10,2),\n",
    "  dewpoint_c                  DECIMAL(10,2),\n",
    "  vis_km                      DECIMAL(10,2),\n",
    "  gust_mph                    DECIMAL(10,2),\n",
    "  air_quality_co              DECIMAL(10,2),\n",
    "  air_quality_no2             DECIMAL(10,2),\n",
    "  air_quality_o3              DECIMAL(10,2),\n",
    "  air_quality_so2             DECIMAL(10,2),\n",
    "  air_quality_pm2_5           DECIMAL(10,2),\n",
    "  air_quality_pm10            DECIMAL(10,2),\n",
    "  air_quality_us_epa_index    BIGINT,\n",
    "  air_quality_gb_defra_index  BIGINT,\n",
    "  ingestion_timestamp         TIMESTAMP,\n",
    "  processing_timestamp        TIMESTAMP,\n",
    "  PRIMARY KEY (row_id),\n",
    "  FOREIGN KEY (location_code) REFERENCES weather.02_silver.dim_locations(location_code)\n",
    ")\n",
    "\n",
    "TBLPROPERTIES('delta.dataSkippingNumIndexedCols' = '40');"
   ]
  },
  {
   "cell_type": "code",
   "execution_count": 0,
   "metadata": {
    "application/vnd.databricks.v1+cell": {
     "cellMetadata": {
      "byteLimit": 2048000,
      "rowLimit": 10000
     },
     "inputWidgets": {},
     "nuid": "64ace8c5-667e-438e-ab8f-282435ba43b6",
     "showTitle": false,
     "tableResultSettingsMap": {},
     "title": ""
    }
   },
   "outputs": [],
   "source": [
    "WITH recent_raw AS (\n",
    "  SELECT *\n",
    "  FROM (\n",
    "    SELECT *,\n",
    "           ROW_NUMBER() OVER (PARTITION BY country, region, district, last_updated\n",
    "                              ORDER BY ingestion_timestamp DESC) AS rn\n",
    "    FROM weather.01_bronze.weather_api_measurements_raw src\n",
    "    WHERE src.ingestion_timestamp > (\n",
    "      SELECT COALESCE(MAX(tgt.ingestion_timestamp), TIMESTAMP '1900-01-01')\n",
    "      FROM weather.02_silver.weather_api_measurements tgt\n",
    "    )\n",
    "  ) AS deduplicated\n",
    "  WHERE rn = 1\n",
    "), \n",
    "\n",
    "recent_raw_joined AS (\n",
    "  SELECT \n",
    "    raw.*,\n",
    "    dim.location_code\n",
    "  FROM recent_raw AS raw\n",
    "  JOIN weather.02_silver.dim_locations AS dim\n",
    "  ON raw.country = dim.country\n",
    "    AND raw.region = dim.region\n",
    "    AND raw.district = dim.district\n",
    ")\n",
    "\n",
    "MERGE INTO weather.02_silver.weather_api_measurements AS tgt\n",
    "USING recent_raw_joined AS src\n",
    "ON tgt.location_code = src.location_code\n",
    "   AND tgt.last_updated_timestamp = to_utc_timestamp(to_timestamp(src.last_updated, \"yyyy-MM-dd HH:mm\"), src.tz_id)\n",
    "\n",
    "-- WHEN MATCHED THEN UPDATE SET\n",
    "--     lat                         = CAST(src.lat AS DECIMAL(10,6)),\n",
    "--     lon                         = CAST(src.lon AS DECIMAL(10,6)),\n",
    "--     tz_id                       = src.tz_id,\n",
    "--     api_call_timestamp          = to_utc_timestamp(to_timestamp(src.localtime, \"yyyy-MM-dd HH:mm\"), src.tz_id),\n",
    "--     temp_c                      = CAST(src.temp_c AS DECIMAL(10,2)),\n",
    "--     is_day                      = CAST(src.is_day AS BOOLEAN),\n",
    "--     weather_condition           = src.condition_text,\n",
    "--     wind_mph                    = CAST(src.wind_mph AS DECIMAL(10,2)),\n",
    "--     wind_degree                 = CAST(src.wind_degree AS DECIMAL(10,2)),\n",
    "--     pressure_mb                 = CAST(src.pressure_mb AS DECIMAL(10,2)),\n",
    "--     humidity                    = CAST(src.humidity AS DECIMAL(10,2)),\n",
    "--     cloud                       = CAST(src.cloud AS DECIMAL(10,2)),\n",
    "--     feelslike_c                 = CAST(src.feelslike_c AS DECIMAL(10,2)),\n",
    "--     windchill_c                 = CAST(src.windchill_c AS DECIMAL(10,2)),\n",
    "--     heatindex_c                 = CAST(src.heatindex_c AS DECIMAL(10,2)),\n",
    "--     dewpoint_c                  = CAST(src.dewpoint_c AS DECIMAL(10,2)),\n",
    "--     vis_km                      = CAST(src.vis_km AS DECIMAL(10,2)),\n",
    "--     gust_mph                    = CAST(src.gust_mph AS DECIMAL(10,2)),\n",
    "--     air_quality_co              = CAST(src.co AS DECIMAL(10,2)),\n",
    "--     air_quality_no2             = CAST(src.no2 AS DECIMAL(10,2)),\n",
    "--     air_quality_o3              = CAST(src.o3 AS DECIMAL(10,2)),\n",
    "--     air_quality_so2             = CAST(src.so2 AS DECIMAL(10,2)),\n",
    "--     air_quality_pm2_5           = CAST(src.pm2_5 AS DECIMAL(10,2)),\n",
    "--     air_quality_pm10            = CAST(src.pm10 AS DECIMAL(10,2)),\n",
    "--     air_quality_us_epa_index    = src.us_epa_index,\n",
    "--     air_quality_gb_defra_index  = src.gb_defra_index,\n",
    "--     ingestion_timestamp         = src.ingestion_timestamp,\n",
    "--     processing_timestamp        = CURRENT_TIMESTAMP()\n",
    "\n",
    "WHEN NOT MATCHED THEN INSERT (\n",
    "    row_id,\n",
    "    location_code,\n",
    "    lat,\n",
    "    lon,\n",
    "    tz_id,\n",
    "    api_call_timestamp,\n",
    "    last_updated_timestamp,\n",
    "    temp_c,\n",
    "    is_day,\n",
    "    weather_condition,\n",
    "    wind_mph,\n",
    "    wind_degree,\n",
    "    pressure_mb,\n",
    "    humidity,\n",
    "    cloud,\n",
    "    feelslike_c,\n",
    "    windchill_c,\n",
    "    heatindex_c,\n",
    "    dewpoint_c,\n",
    "    vis_km,\n",
    "    gust_mph,\n",
    "    air_quality_co,\n",
    "    air_quality_no2,\n",
    "    air_quality_o3,\n",
    "    air_quality_so2,\n",
    "    air_quality_pm2_5,\n",
    "    air_quality_pm10,\n",
    "    air_quality_us_epa_index,\n",
    "    air_quality_gb_defra_index,\n",
    "    ingestion_timestamp,\n",
    "    processing_timestamp\n",
    ")\n",
    "VALUES (\n",
    "    md5(concat(src.location_code, CAST(to_utc_timestamp(to_timestamp(src.last_updated, \"yyyy-MM-dd HH:mm\"), src.tz_id) AS STRING))),\n",
    "    src.location_code,\n",
    "    CAST(src.lat AS DECIMAL(10,6)),\n",
    "    CAST(src.lon AS DECIMAL(10,6)),\n",
    "    src.tz_id,\n",
    "    to_utc_timestamp(to_timestamp(src.localtime, \"yyyy-MM-dd HH:mm\"), src.tz_id),\n",
    "    to_utc_timestamp(to_timestamp(src.last_updated, \"yyyy-MM-dd HH:mm\"), src.tz_id),\n",
    "    CAST(src.temp_c AS DECIMAL(10,2)),\n",
    "    CAST(src.is_day AS BOOLEAN),\n",
    "    src.condition_text,\n",
    "    CAST(src.wind_mph AS DECIMAL(10,2)),\n",
    "    CAST(src.wind_degree AS DECIMAL(10,2)),\n",
    "    CAST(src.pressure_mb AS DECIMAL(10,2)),\n",
    "    CAST(src.humidity AS DECIMAL(10,2)),\n",
    "    CAST(src.cloud AS DECIMAL(10,2)),\n",
    "    CAST(src.feelslike_c AS DECIMAL(10,2)),\n",
    "    CAST(src.windchill_c AS DECIMAL(10,2)),\n",
    "    CAST(src.heatindex_c AS DECIMAL(10,2)),\n",
    "    CAST(src.dewpoint_c AS DECIMAL(10,2)),\n",
    "    CAST(src.vis_km AS DECIMAL(10,2)),\n",
    "    CAST(src.gust_mph AS DECIMAL(10,2)),\n",
    "    CAST(src.co AS DECIMAL(10,2)),\n",
    "    CAST(src.no2 AS DECIMAL(10,2)),\n",
    "    CAST(src.o3 AS DECIMAL(10,2)),\n",
    "    CAST(src.so2 AS DECIMAL(10,2)),\n",
    "    CAST(src.pm2_5 AS DECIMAL(10,2)),\n",
    "    CAST(src.pm10 AS DECIMAL(10,2)),\n",
    "    src.us_epa_index,\n",
    "    src.gb_defra_index,\n",
    "    src.ingestion_timestamp,\n",
    "    CURRENT_TIMESTAMP()\n",
    ");\n"
   ]
  },
  {
   "cell_type": "code",
   "execution_count": 0,
   "metadata": {
    "application/vnd.databricks.v1+cell": {
     "cellMetadata": {
      "byteLimit": 2048000,
      "rowLimit": 10000
     },
     "inputWidgets": {},
     "nuid": "84677212-d6ea-41de-935a-3b10ae311a90",
     "showTitle": false,
     "tableResultSettingsMap": {},
     "title": ""
    }
   },
   "outputs": [],
   "source": [
    "OPTIMIZE weather.02_silver.weather_api_measurements ZORDER BY last_updated_timestamp"
   ]
  }
 ],
 "metadata": {
  "application/vnd.databricks.v1+notebook": {
   "computePreferences": null,
   "dashboards": [],
   "environmentMetadata": {
    "base_environment": "",
    "environment_version": "2"
   },
   "inputWidgetPreferences": null,
   "language": "sql",
   "notebookMetadata": {
    "pythonIndentUnit": 4
   },
   "notebookName": "02_weather_data_batch_pipeline_silver",
   "widgets": {}
  },
  "language_info": {
   "name": "sql"
  }
 },
 "nbformat": 4,
 "nbformat_minor": 0
}

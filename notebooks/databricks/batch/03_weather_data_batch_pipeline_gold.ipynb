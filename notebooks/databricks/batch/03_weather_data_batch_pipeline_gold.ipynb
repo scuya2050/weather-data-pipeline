{
 "cells": [
  {
   "cell_type": "markdown",
   "metadata": {
    "application/vnd.databricks.v1+cell": {
     "cellMetadata": {
      "byteLimit": 2048000,
      "rowLimit": 10000
     },
     "inputWidgets": {},
     "nuid": "7f51663f-e695-4bd4-a18f-524d2499d20c",
     "showTitle": false,
     "tableResultSettingsMap": {},
     "title": ""
    }
   },
   "source": [
    "### Gold Layer"
   ]
  },
  {
   "cell_type": "markdown",
   "metadata": {
    "application/vnd.databricks.v1+cell": {
     "cellMetadata": {
      "byteLimit": 2048000,
      "rowLimit": 10000
     },
     "inputWidgets": {},
     "nuid": "d63cd5a5-4b7b-4b6e-b9a0-8a40f352b2ba",
     "showTitle": false,
     "tableResultSettingsMap": {},
     "title": ""
    }
   },
   "source": [
    "#### Table Creation"
   ]
  },
  {
   "cell_type": "code",
   "execution_count": 0,
   "metadata": {
    "application/vnd.databricks.v1+cell": {
     "cellMetadata": {
      "byteLimit": 2048000,
      "rowLimit": 10000
     },
     "inputWidgets": {},
     "nuid": "b414d269-2ce7-4a78-a311-7f3ebce578e8",
     "showTitle": false,
     "tableResultSettingsMap": {},
     "title": ""
    }
   },
   "outputs": [],
   "source": [
    "CREATE CATALOG IF NOT EXISTS weather;\n",
    "USE CATALOG weather;\n",
    "CREATE SCHEMA IF NOT EXISTS 03_gold;\n",
    "USE SCHEMA 03_gold;\n",
    "CREATE OR REPLACE TABLE weather_api_daily_average AS\n",
    "  SELECT \n",
    "    dim.country,\n",
    "    dim.region,\n",
    "    dim.district,\n",
    "    CAST(window.start AS DATE) AS date,\n",
    "    AVG(fct.temp_c) AS avg_temp_c,\n",
    "    AVG(fct.pressure_mb) AS avg_pressure_mb,\n",
    "    AVG(fct.humidity) AS avg_humidity\n",
    "  FROM weather.02_silver.weather_api_measurements AS fct\n",
    "  JOIN weather.02_silver.dim_locations AS dim\n",
    "  ON\n",
    "    fct.location_code = dim.location_code\n",
    "  GROUP BY\n",
    "    dim.country,\n",
    "    dim.region,\n",
    "    dim.district,\n",
    "    window(fct.last_updated_timestamp, \"1 DAY\")\n",
    "  ORDER BY\n",
    "    dim.country,\n",
    "    dim.region,\n",
    "    dim.district,\n",
    "    date"
   ]
  }
 ],
 "metadata": {
  "application/vnd.databricks.v1+notebook": {
   "computePreferences": null,
   "dashboards": [],
   "environmentMetadata": {
    "base_environment": "",
    "environment_version": "2"
   },
   "inputWidgetPreferences": null,
   "language": "sql",
   "notebookMetadata": {
    "pythonIndentUnit": 4
   },
   "notebookName": "03_weather_data_batch_pipeline_gold",
   "widgets": {}
  },
  "language_info": {
   "name": "sql"
  }
 },
 "nbformat": 4,
 "nbformat_minor": 0
}

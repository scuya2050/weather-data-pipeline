{
 "cells": [
  {
   "cell_type": "markdown",
   "metadata": {
    "application/vnd.databricks.v1+cell": {
     "cellMetadata": {
      "byteLimit": 2048000,
      "rowLimit": 10000
     },
     "inputWidgets": {},
     "nuid": "7f51663f-e695-4bd4-a18f-524d2499d20c",
     "showTitle": false,
     "tableResultSettingsMap": {},
     "title": ""
    }
   },
   "source": [
    "### Bronze Layer"
   ]
  },
  {
   "cell_type": "markdown",
   "metadata": {
    "application/vnd.databricks.v1+cell": {
     "cellMetadata": {
      "byteLimit": 2048000,
      "rowLimit": 10000
     },
     "inputWidgets": {},
     "nuid": "d63cd5a5-4b7b-4b6e-b9a0-8a40f352b2ba",
     "showTitle": false,
     "tableResultSettingsMap": {},
     "title": ""
    }
   },
   "source": [
    "#### Table Creation and Update"
   ]
  },
  {
   "cell_type": "code",
   "execution_count": 0,
   "metadata": {
    "application/vnd.databricks.v1+cell": {
     "cellMetadata": {
      "byteLimit": 2048000,
      "rowLimit": 10000
     },
     "inputWidgets": {},
     "nuid": "b414d269-2ce7-4a78-a311-7f3ebce578e8",
     "showTitle": false,
     "tableResultSettingsMap": {},
     "title": ""
    }
   },
   "outputs": [],
   "source": [
    "%sql\n",
    "CREATE CATALOG IF NOT EXISTS weather;\n",
    "USE CATALOG weather;\n",
    "CREATE SCHEMA IF NOT EXISTS 01_bronze;\n",
    "USE SCHEMA 01_bronze;\n",
    "CREATE TABLE IF NOT EXISTS weather_api_measurements_raw (\n",
    "  -- Metadata\n",
    "  file_path              STRING,\n",
    "  ingestion_timestamp    TIMESTAMP,\n",
    "\n",
    "  -- Location fields\n",
    "  district               STRING,\n",
    "  region                 STRING,\n",
    "  country                STRING,\n",
    "  lat                    DOUBLE,\n",
    "  lon                    DOUBLE,\n",
    "  tz_id                  STRING,\n",
    "  localtime_epoch        BIGINT,\n",
    "  localtime              STRING,\n",
    "\n",
    "  -- Current weather fields\n",
    "  last_updated_epoch     BIGINT,\n",
    "  last_updated           STRING,\n",
    "  temp_c                 DOUBLE,\n",
    "  temp_f                 DOUBLE,\n",
    "  is_day                 BIGINT,\n",
    "  condition_text         STRING,\n",
    "  condition_icon         STRING,\n",
    "  condition_code         BIGINT,\n",
    "  wind_mph               DOUBLE,\n",
    "  wind_kph               DOUBLE,\n",
    "  wind_degree            BIGINT,\n",
    "  wind_dir               STRING,\n",
    "  pressure_mb            DOUBLE,\n",
    "  pressure_in            DOUBLE,\n",
    "  precip_mm              DOUBLE,\n",
    "  precip_in              DOUBLE,\n",
    "  humidity               BIGINT,\n",
    "  cloud                  BIGINT,\n",
    "  feelslike_c            DOUBLE,\n",
    "  feelslike_f            DOUBLE,\n",
    "  windchill_c            DOUBLE,\n",
    "  windchill_f            DOUBLE,\n",
    "  heatindex_c            DOUBLE,\n",
    "  heatindex_f            DOUBLE,\n",
    "  dewpoint_c             DOUBLE,\n",
    "  dewpoint_f             DOUBLE,\n",
    "  vis_km                 DOUBLE,\n",
    "  vis_miles              DOUBLE,\n",
    "  uv                     DOUBLE,\n",
    "  gust_mph               DOUBLE,\n",
    "  gust_kph               DOUBLE,\n",
    "\n",
    "  -- Air quality map values\n",
    "  co                     DOUBLE,\n",
    "  no2                    DOUBLE,\n",
    "  o3                     DOUBLE,\n",
    "  so2                    DOUBLE,\n",
    "  pm2_5                  DOUBLE,\n",
    "  pm10                   DOUBLE,\n",
    "  us_epa_index           BIGINT,\n",
    "  gb_defra_index         BIGINT\n",
    ");"
   ]
  },
  {
   "cell_type": "code",
   "execution_count": 0,
   "metadata": {
    "application/vnd.databricks.v1+cell": {
     "cellMetadata": {
      "byteLimit": 2048000,
      "rowLimit": 10000
     },
     "inputWidgets": {},
     "nuid": "64ace8c5-667e-438e-ab8f-282435ba43b6",
     "showTitle": false,
     "tableResultSettingsMap": {},
     "title": ""
    }
   },
   "outputs": [],
   "source": [
    "%sql\n",
    "COPY INTO weather_api_measurements_raw\n",
    "FROM (\n",
    "  SELECT\n",
    "    _metadata.file_path as file_path, \n",
    "    current_timestamp() as ingestion_timestamp,\n",
    "    location.name as district,\n",
    "    location.region as region,\n",
    "    location.country as country,\n",
    "    location.lat as lat,\n",
    "    location.lon as lon,\n",
    "    location.tz_id as tz_id,\n",
    "    location.localtime_epoch as localtime_epoch,\n",
    "    location.localtime as localtime,\n",
    "    current.last_updated_epoch as last_updated_epoch,\n",
    "    current.last_updated as last_updated,\n",
    "    current.temp_c as temp_c,\n",
    "    current.temp_f as temp_f,\n",
    "    current.is_day as is_day,\n",
    "    current.condition.text as condition_text,\n",
    "    current.condition.icon as condition_icon,\n",
    "    current.condition.code as condition_code,\n",
    "    current.wind_mph as wind_mph,\n",
    "    current.wind_kph as wind_kph,\n",
    "    current.wind_degree as wind_degree,\n",
    "    current.wind_dir as wind_dir,\n",
    "    current.pressure_mb as pressure_mb,\n",
    "    current.pressure_in as pressure_in,\n",
    "    current.precip_mm as precip_mm,\n",
    "    current.precip_in as precip_in,\n",
    "    current.humidity as humidity,\n",
    "    current.cloud as cloud,\n",
    "    current.feelslike_c as feelslike_c,\n",
    "    current.feelslike_f as feelslike_f,\n",
    "    current.windchill_c as windchill_c,\n",
    "    current.windchill_f as windchill_f,\n",
    "    current.heatindex_c as heatindex_c,\n",
    "    current.heatindex_f as heatindex_f,\n",
    "    current.dewpoint_c as dewpoint_c,\n",
    "    current.dewpoint_f as dewpoint_f,\n",
    "    current.vis_km as vis_km,\n",
    "    current.vis_miles as vis_miles,\n",
    "    current.uv as uv,\n",
    "    current.gust_mph as gust_mph,\n",
    "    current.gust_kph as gust_kph,\n",
    "    current.air_quality['co'] AS co,\n",
    "    current.air_quality['no2'] AS no2,\n",
    "    current.air_quality['o3'] AS o3,\n",
    "    current.air_quality['so2'] AS so2,\n",
    "    current.air_quality['pm2_5'] AS pm2_5,\n",
    "    current.air_quality['pm10'] AS pm10,\n",
    "    current.air_quality['us-epa-index'] AS us_epa_index,\n",
    "    current.air_quality['gb-defra-index'] AS gb_defra_index\n",
    "  FROM 's3://databricks-aws-sebastiancuya-bucket/weather-data/*/*/*/*/*/*' \n",
    ")\n",
    "FILEFORMAT = JSON\n",
    "FORMAT_OPTIONS('inferSchema' = 'true', 'ignoreCorruptFiles' = 'true');\n",
    "\n"
   ]
  },
  {
   "cell_type": "code",
   "execution_count": 0,
   "metadata": {
    "application/vnd.databricks.v1+cell": {
     "cellMetadata": {
      "byteLimit": 2048000,
      "rowLimit": 10000
     },
     "inputWidgets": {},
     "nuid": "84677212-d6ea-41de-935a-3b10ae311a90",
     "showTitle": false,
     "tableResultSettingsMap": {},
     "title": ""
    }
   },
   "outputs": [],
   "source": [
    "%sql\n",
    "OPTIMIZE weather_api_measurements_raw ZORDER BY ingestion_timestamp"
   ]
  },
  {
   "cell_type": "code",
   "execution_count": 0,
   "metadata": {
    "application/vnd.databricks.v1+cell": {
     "cellMetadata": {
      "byteLimit": 2048000,
      "implicitDf": true,
      "rowLimit": 10000
     },
     "inputWidgets": {},
     "nuid": "f6968187-e53b-4563-9d55-f071d368c259",
     "showTitle": false,
     "tableResultSettingsMap": {},
     "title": ""
    }
   },
   "outputs": [],
   "source": [
    "%sql\n",
    "    WITH table_history AS (\n",
    "        SELECT * FROM (DESCRIBE HISTORY `weather`.`01_bronze`.`weather_api_measurements_raw`)\n",
    "    )\n",
    "    SELECT\n",
    "        operationMetrics.numSkippedCorruptFiles\n",
    "    FROM table_history\n",
    "    WHERE operation = 'COPY INTO'\n",
    "    LIMIT 1"
   ]
  }
 ],
 "metadata": {
  "application/vnd.databricks.v1+notebook": {
   "computePreferences": null,
   "dashboards": [],
   "environmentMetadata": {
    "base_environment": "",
    "environment_version": "2"
   },
   "inputWidgetPreferences": null,
   "language": "python",
   "notebookMetadata": {
    "mostRecentlyExecutedCommandWithImplicitDF": {
     "commandId": -1,
     "dataframes": [
      "_sqldf"
     ]
    },
    "pythonIndentUnit": 4
   },
   "notebookName": "01_weather_data_batch_pipeline_bronze",
   "widgets": {}
  },
  "language_info": {
   "name": "python"
  }
 },
 "nbformat": 4,
 "nbformat_minor": 0
}
